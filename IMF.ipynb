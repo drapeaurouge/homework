{
 "cells": [
  {
   "cell_type": "markdown",
   "metadata": {},
   "source": [
    "<script type=\"text/javascript\" src=\"http://cdn.mathjax.org/mathjax/latest/MathJax.js?config=default\"></script>\n",
    "**a) Luminosity function** Define the luminosity function as\n",
    "\\begin{equation}\n",
    "\\mathrm dN=\\phi(M_V)\\mathrm dM_V\n",
    "\\end{equation}\n",
    "where N is the number of stars per cubic pc in absolute magnitude $[M_V, M_V+\\mathrm dM_V]$."
   ]
  },
  {
   "cell_type": "code",
   "execution_count": 50,
   "metadata": {},
   "outputs": [],
   "source": [
    "import numpy as np\n",
    "'''read catalog file'''\n",
    "m, p = np.loadtxt('hp_main.dat', delimiter='|', usecols=(5,11), unpack=True, dtype='str')"
   ]
  },
  {
   "cell_type": "markdown",
   "metadata": {},
   "source": [
    "Here I set the distance$<500pc$"
   ]
  },
  {
   "cell_type": "code",
   "execution_count": 118,
   "metadata": {},
   "outputs": [],
   "source": [
    "'''transforme the data to array'''\n",
    "plx_min = 2 #under limit of parallax\n",
    "tot = 0\n",
    "parallax = []\n",
    "magnitude = []\n",
    "for i in range(len(p)):\n",
    "    if p[i] != '       ' and m[i] != '     ':\n",
    "        plx = float(p[i])\n",
    "        if plx > plx_min:\n",
    "            magnitude.append(float(m[i]))\n",
    "            parallax.append(plx)\n",
    "            tot += 1\n",
    "magnitude = np.array(magnitude)\n",
    "parallax = np.array(parallax)\n",
    "distance = 1000 / parallax\n",
    "M_V = magnitude - 5 * np.log10(distance / 10)\n",
    "\n",
    "'''obtain luminosity function as table and histogram'''\n",
    "Mlist = range(-4, 14)\n",
    "Mdistri = []\n",
    "M_V = M_V.round()\n",
    "M_V = M_V.tolist()\n",
    "for M in Mlist:\n",
    "    Mdistri.append(M_V.count(M))\n",
    "Mdistri = np.array(Mdistri)"
   ]
  },
  {
   "cell_type": "markdown",
   "metadata": {},
   "source": [
    "Here I interpolate the table 1 in the paper to modify the fraction of post-MS stars. The V magnitude of MS should $M_V<13$. "
   ]
  },
  {
   "cell_type": "code",
   "execution_count": 119,
   "metadata": {},
   "outputs": [
    {
     "name": "stdout",
     "output_type": "stream",
     "text": [
      "|-4|2.26|\n",
      "|-3|3.11|\n",
      "|-2|3.86|\n",
      "|-1|4.52|\n",
      "|0|4.97|\n",
      "|1|5.31|\n",
      "|2|5.37|\n",
      "|3|5.39|\n",
      "|4|5.32|\n",
      "|5|5.02|\n",
      "|6|4.68|\n",
      "|7|4.48|\n",
      "|8|4.27|\n",
      "|9|3.96|\n",
      "|10|3.72|\n",
      "|11|3.37|\n",
      "|12|3.00|\n",
      "|13|2.51|\n"
     ]
    }
   ],
   "source": [
    "f = (0.175, 0.365, 0.495, 0.47, 0.415, 0.5, 0.65, 0.8, 0.95, 1,1,1,1,1,1,1,1,1)\n",
    "N = Mdistri / ( 4 / 3 * np.pi * (1000/plx_min)**3) / 1 * f\n",
    "for i, M in enumerate(Mlist):\n",
    "    print('|%d|%3.2f|'%(M, np.log10(N[i])+10))"
   ]
  },
  {
   "cell_type": "markdown",
   "metadata": {},
   "source": [
    "**Here is the luminosity function**\n",
    "\n",
    "|$M_V$|$\\log\\phi+10$|\n",
    "|----|----|\n",
    "|-4|2.26|\n",
    "|-3|3.11|\n",
    "|-2|3.86|\n",
    "|-1|4.52|\n",
    "|0|4.97|\n",
    "|1|5.31|\n",
    "|2|5.37|\n",
    "|3|5.39|\n",
    "|4|5.32|\n",
    "|5|5.02|\n",
    "|6|4.68|\n",
    "|7|4.48|\n",
    "|8|4.27|\n",
    "|9|3.96|\n",
    "|10|3.72|\n",
    "|11|3.37|\n",
    "|12|3.00|\n",
    "|13|2.51|\n"
   ]
  },
  {
   "cell_type": "code",
   "execution_count": 124,
   "metadata": {},
   "outputs": [
    {
     "data": {
      "image/png": "[encoded data removed]",
      "text/plain": [
       "<matplotlib.figure.Figure at 0x7fbfd9436748>"
      ]
     },
     "metadata": {},
     "output_type": "display_data"
    }
   ],
   "source": [
    "import matplotlib.pyplot as plt\n",
    "plt.figure()\n",
    "plt.plot(Mlist, N)\n",
    "plt.xlabel('$M_V$')\n",
    "plt.ylabel('$N(pc^{-3}mag^{-1})$')\n",
    "plt.show()"
   ]
  },
  {
   "cell_type": "markdown",
   "metadata": {},
   "source": [
    "Above is the plot of luminosity function."
   ]
  },
  {
   "cell_type": "markdown",
   "metadata": {},
   "source": [
    "**b)** Use the following mass-luminosity relation:\n",
    "\\begin{eqnarray}\n",
    "\\frac{L}{L_\\odot}&=&0.23\\left(\\frac{M}{M_\\odot}\\right)^{2.3}\\qquad(M_\\odot<M<0.43M_\\odot)\\\\\n",
    "\\frac{L}{L_\\odot}&=&\\left(\\frac{M}{M_\\odot}\\right)^4\\qquad(0.43M_\\odot<M<2M_\\odot)\\\\\n",
    "\\frac{L}{L_\\odot}&=&1.5\\left(\\frac{M}{M_\\odot}\\right)^{3.5}\\qquad(2M_\\odot<M<20M_\\odot)\n",
    "\\end{eqnarray}"
   ]
  },
  {
   "cell_type": "code",
   "execution_count": 150,
   "metadata": {},
   "outputs": [
    {
     "name": "stdout",
     "output_type": "stream",
     "text": [
      "|9.17|2.26|\n",
      "|7.05|3.11|\n",
      "|5.42|3.86|\n",
      "|4.17|4.52|\n",
      "|3.20|4.97|\n",
      "|2.46|5.31|\n",
      "|1.92|5.37|\n",
      "|1.53|5.39|\n",
      "|1.22|5.32|\n",
      "|0.97|5.02|\n",
      "|0.77|4.68|\n",
      "|0.61|4.48|\n",
      "|0.49|4.27|\n",
      "|0.36|3.96|\n",
      "|0.24|3.72|\n",
      "|0.16|3.37|\n",
      "|0.11|3.00|\n",
      "|0.07|2.51|\n"
     ]
    }
   ],
   "source": [
    "masslist = []\n",
    "for M in np.arange(-4.5, 14.5, 1):\n",
    "    m = (10**(0.4 * (4.83-M)))**(1/4)\n",
    "    if m > 0.43 and m <= 2:\n",
    "        masslist.append(m)\n",
    "    else:\n",
    "        m = (10**(0.4 * (4.83-M)) / 1.5)**(1/3.5)\n",
    "        if m > 2 and m < 20:\n",
    "            masslist.append(m)\n",
    "        else:\n",
    "            m = (10**(0.4 * (4.83-M)) / 0.23)**(1/2.3)\n",
    "            masslist.append(m)\n",
    "\n",
    "dmass = []#bin width\n",
    "cmass = []#bin center\n",
    "for i in range(len(masslist)-1):\n",
    "    dmass.append(masslist[i]-masslist[i+1])\n",
    "    cmass.append((masslist[i]+masslist[i+1])/2)\n",
    "dmass = np.array(dmass)\n",
    "cmass = np.array(cmass)\n",
    "N_mass = N / dmass\n",
    "for i in range(len(cmass)):\n",
    "    print('|%3.2f|%3.2f|'%(cmass[i],np.log10(N[i])+10))\n"
   ]
  },
  {
   "cell_type": "markdown",
   "metadata": {},
   "source": [
    "**Present-day mass function** ($\\phi$ is the number of star in this bin per pc. The mass bin is **not** linear here.)\n",
    "\n",
    "|mass($M_\\odot$)|$\\log\\phi+10$\n",
    "|:--------:|:--------:|\n",
    "|9.17|2.26|\n",
    "|7.05|3.11|\n",
    "|5.42|3.86|\n",
    "|4.17|4.52|\n",
    "|3.20|4.97|\n",
    "|2.46|5.31|\n",
    "|1.92|5.37|\n",
    "|1.53|5.39|\n",
    "|1.22|5.32|\n",
    "|0.97|5.02|\n",
    "|0.77|4.68|\n",
    "|0.61|4.48|\n",
    "|0.49|4.27|\n",
    "|0.36|3.96|\n",
    "|0.24|3.72|\n",
    "|0.16|3.37|\n",
    "|0.11|3.00|\n",
    "|0.07|2.51|"
   ]
  },
  {
   "cell_type": "code",
   "execution_count": 157,
   "metadata": {},
   "outputs": [
    {
     "data": {
      "image/png": "[encoded data removed]",
      "text/plain": [
       "<matplotlib.figure.Figure at 0x7fbfd91812b0>"
      ]
     },
     "metadata": {},
     "output_type": "display_data"
    }
   ],
   "source": [
    "plt.figure()\n",
    "plt.plot(cmass,N_mass)\n",
    "plt.xlabel('$Mass(M_\\odot)$')\n",
    "plt.ylabel('$N(pc^{-3}M_\\odot^{-1})$')\n",
    "plt.show()"
   ]
  },
  {
   "cell_type": "markdown",
   "metadata": {},
   "source": [
    "**c)** Massive stars have shorter lifetime. Under constant star formation rate, the ratio of massive stars is relatively smaller, which need to be corrected.\n",
    "\\begin{equation}\n",
    "IMF\\propto \\frac{PMF}{lifetime}\n",
    "\\end{equation}\n",
    "\n",
    "And the lifetime\n",
    "\\begin{equation}\n",
    "\\tau\\propto \\left(\\frac{M}{M_\\odot}\\right)^{-2.5}\n",
    "\\end{equation}\n",
    "Then the IMF should be normalized."
   ]
  },
  {
   "cell_type": "code",
   "execution_count": 175,
   "metadata": {},
   "outputs": [
    {
     "data": {
      "image/png": "[encoded data removed]",
      "text/plain": [
       "<matplotlib.figure.Figure at 0x7fbfd92b4a20>"
      ]
     },
     "metadata": {},
     "output_type": "display_data"
    }
   ],
   "source": [
    "IMF_mass = N_mass * cmass**2.5\n",
    "s = IMF_mass * dmass\n",
    "IMF_mass = IMF_mass / s.sum()\n",
    "plt.figure()\n",
    "plt.plot(cmass, IMF_mass)\n",
    "plt.xlabel('Mass($M_\\odot$)')\n",
    "plt.ylabel('normalized IMF ($M_\\odot^{-1}$)')\n",
    "plt.show()"
   ]
  },
  {
   "cell_type": "markdown",
   "metadata": {},
   "source": [
    "This is the initial mass function."
   ]
  }
 ],
 "metadata": {
  "kernelspec": {
   "display_name": "Python 3",
   "language": "python",
   "name": "python3"
  },
  "language_info": {
   "codemirror_mode": {
    "name": "ipython",
    "version": 3
   },
   "file_extension": ".py",
   "mimetype": "text/x-python",
   "name": "python",
   "nbconvert_exporter": "python",
   "pygments_lexer": "ipython3",
   "version": "3.6.1"
  }
 },
 "nbformat": 4,
 "nbformat_minor": 2
}
